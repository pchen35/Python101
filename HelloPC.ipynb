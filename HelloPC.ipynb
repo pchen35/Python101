{
  "nbformat": 4,
  "nbformat_minor": 0,
  "metadata": {
    "colab": {
      "provenance": [],
      "authorship_tag": "ABX9TyPsxL9UMpzI8m8YW1A/a1/A",
      "include_colab_link": true
    },
    "kernelspec": {
      "name": "python3",
      "display_name": "Python 3"
    },
    "language_info": {
      "name": "python"
    }
  },
  "cells": [
    {
      "cell_type": "markdown",
      "metadata": {
        "id": "view-in-github",
        "colab_type": "text"
      },
      "source": [
        "<a href=\"https://colab.research.google.com/github/pchen35/Python101/blob/master/HelloPC.ipynb\" target=\"_parent\"><img src=\"https://colab.research.google.com/assets/colab-badge.svg\" alt=\"Open In Colab\"/></a>"
      ]
    },
    {
      "cell_type": "code",
      "execution_count": 1,
      "metadata": {
        "colab": {
          "base_uri": "https://localhost:8080/"
        },
        "id": "XoCkwsTccNe2",
        "outputId": "d3fe7117-89ed-4994-fd32-cc594026416f"
      },
      "outputs": [
        {
          "output_type": "stream",
          "name": "stdout",
          "text": [
            "Hello PC, connect colab to github.\n",
            "/content\n"
          ]
        }
      ],
      "source": [
        "print(\"Hello PC, connect colab to github. 2023/03/09/pm\")\n",
        "print(\"Hello PC, connect colab to github. 2023/03/10/am\")\n",
        "!pwd"
      ]
    }
  ]
}
